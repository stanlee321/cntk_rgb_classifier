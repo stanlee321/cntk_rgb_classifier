{
 "cells": [
  {
   "cell_type": "code",
   "execution_count": 124,
   "metadata": {},
   "outputs": [],
   "source": [
    "import numpy as np\n",
    "from sklearn.cross_validation import train_test_split\n",
    "import cv2\n",
    "import os\n",
    "import matplotlib.pyplot as plt\n",
    "import matplotlib.image as mpimg\n",
    "from matplotlib.pyplot import imshow\n",
    "%matplotlib inline"
   ]
  },
  {
   "cell_type": "code",
   "execution_count": 125,
   "metadata": {},
   "outputs": [],
   "source": [
    "def read_files(directory):\n",
    "    print (\"Reading files...\")\n",
    "    s = 1\n",
    "    feature_list = list()\n",
    "    label_list   = list()\n",
    "    num_classes = 0\n",
    "    for root, dirs, files in os.walk(directory):\n",
    "        for d in dirs:\n",
    "            num_classes += 1\n",
    "            images = os.listdir(root+d)\n",
    "            for image in images:\n",
    "                s += 1\n",
    "                label_list.append(d)\n",
    "                feature_list.append(extract_feature(root+d+\"/\"+image))\n",
    "\n",
    "    print (str(num_classes) + \" classes\")\n",
    "    return np.asarray(feature_list), np.asarray(label_list)\n",
    "\n",
    "def extract_feature(image_file):\n",
    "    SHAPE = (24, 8)\n",
    "    img = cv2.imread(image_file)\n",
    "    img = cv2.cvtColor(img, cv2.COLOR_BGR2RGB)\n",
    "    img = cv2.resize(img, SHAPE, interpolation = cv2.INTER_CUBIC)\n",
    "    img = img.flatten()\n",
    "    #img = img/(np.mean(img)+0.0001)\n",
    "    return img\n"
   ]
  },
  {
   "cell_type": "code",
   "execution_count": 126,
   "metadata": {},
   "outputs": [
    {
     "data": {
      "text/plain": [
       "<matplotlib.image.AxesImage at 0x7fc929ae9e10>"
      ]
     },
     "execution_count": 126,
     "metadata": {},
     "output_type": "execute_result"
    },
    {
     "data": {
      "image/png": "[encoded data removed]",
      "text/plain": [
       "<matplotlib.figure.Figure at 0x7fc929b12b38>"
      ]
     },
     "metadata": {},
     "output_type": "display_data"
    }
   ],
   "source": [
    "feature_mean = np.mean(feature_array, axis = 0)\n",
    "# Then plot the mean image.\n",
    "plt.figure()\n",
    "plt.imshow(feature_mean.reshape((8, 24, 3)))"
   ]
  },
  {
   "cell_type": "code",
   "execution_count": 127,
   "metadata": {},
   "outputs": [
    {
     "data": {
      "text/plain": [
       "<matplotlib.image.AxesImage at 0x7fc929a45908>"
      ]
     },
     "execution_count": 127,
     "metadata": {},
     "output_type": "execute_result"
    },
    {
     "data": {
      "image/png": "[encoded data removed]",
      "text/plain": [
       "<matplotlib.figure.Figure at 0x7fc9309ed5c0>"
      ]
     },
     "metadata": {},
     "output_type": "display_data"
    }
   ],
   "source": [
    "feature_std = np.std(feature_array, axis=0)\n",
    "plt.figure()\n",
    "plt.imshow(feature_std.reshape((8, 24, 3)))"
   ]
  },
  {
   "cell_type": "code",
   "execution_count": 128,
   "metadata": {},
   "outputs": [
    {
     "name": "stdout",
     "output_type": "stream",
     "text": [
      "Reading files...\n",
      "3 classes\n",
      "(1801, 576) (1801,)\n"
     ]
    }
   ],
   "source": [
    "directory = './Classifier/data/'\n",
    "feature_array, label_array = read_files(directory)\n",
    "print(feature_array.shape, label_array.shape)\n",
    "# Splitting the data into test and training splits\n",
    "X_train, X_test, y_train, y_test = train_test_split(feature_array, label_array, test_size=0.2, random_state=42)"
   ]
  },
  {
   "cell_type": "code",
   "execution_count": 129,
   "metadata": {},
   "outputs": [
    {
     "data": {
      "text/plain": [
       "<matplotlib.image.AxesImage at 0x7fc929a324e0>"
      ]
     },
     "execution_count": 129,
     "metadata": {},
     "output_type": "execute_result"
    },
    {
     "data": {
      "image/png": "[encoded data removed]",
      "text/plain": [
       "<matplotlib.figure.Figure at 0x7fc929a91518>"
      ]
     },
     "metadata": {},
     "output_type": "display_data"
    }
   ],
   "source": [
    "#img = np.reshape(X_train[1400]*(np.mean(X_train[1400])+0.0001), (8,24,3))\n",
    "img = np.reshape((X_train[900]-feature_mean)/feature_std, (8,24,3))\n",
    "imshow(img)\n",
    "#imshow(X_train[1400])"
   ]
  },
  {
   "cell_type": "code",
   "execution_count": 130,
   "metadata": {},
   "outputs": [
    {
     "data": {
      "text/plain": [
       "<matplotlib.image.AxesImage at 0x7fc9299940b8>"
      ]
     },
     "execution_count": 130,
     "metadata": {},
     "output_type": "execute_result"
    },
    {
     "data": {
      "image/png": "[encoded data removed]",
      "text/plain": [
       "<matplotlib.figure.Figure at 0x7fc929a12710>"
      ]
     },
     "metadata": {},
     "output_type": "display_data"
    }
   ],
   "source": [
    "#img = np.reshape(X_train[1400]*(np.mean(X_train[1400])+0.0001), (8,24,3))\n",
    "img = np.reshape(X_train[900]/ (np.mean(X_train[900]+0.0001)), (8,24,3))\n",
    "imshow(img)\n",
    "#imshow(X_train[1400])"
   ]
  },
  {
   "cell_type": "code",
   "execution_count": 131,
   "metadata": {},
   "outputs": [
    {
     "data": {
      "text/plain": [
       "<matplotlib.image.AxesImage at 0x7fc92997ea20>"
      ]
     },
     "execution_count": 131,
     "metadata": {},
     "output_type": "execute_result"
    },
    {
     "data": {
      "image/png": "[encoded data removed]",
      "text/plain": [
       "<matplotlib.figure.Figure at 0x7fc9299eb2b0>"
      ]
     },
     "metadata": {},
     "output_type": "display_data"
    }
   ],
   "source": [
    "#img = np.reshape(X_train[1400]*(np.mean(X_train[1400])+0.0001), (8,24,3))\n",
    "img = np.reshape(X_train[900]/255, (8,24,3))\n",
    "imshow(img)"
   ]
  },
  {
   "cell_type": "code",
   "execution_count": 133,
   "metadata": {},
   "outputs": [
    {
     "data": {
      "text/plain": [
       "array([[ 0.        ,  0.        ,  0.        , ...,  0.05098039,\n",
       "         0.07058824,  0.0745098 ],\n",
       "       [ 0.        ,  0.        ,  0.        , ...,  0.        ,\n",
       "         0.        ,  0.        ],\n",
       "       [ 0.        ,  0.        ,  0.        , ...,  0.        ,\n",
       "         0.        ,  0.        ],\n",
       "       ..., \n",
       "       [ 0.        ,  0.        ,  0.        , ...,  0.        ,\n",
       "         0.        ,  0.        ],\n",
       "       [ 0.        ,  0.        ,  0.        , ...,  0.        ,\n",
       "         0.        ,  0.        ],\n",
       "       [ 0.        ,  0.        ,  0.        , ...,  0.        ,\n",
       "         0.        ,  0.        ]])"
      ]
     },
     "execution_count": 133,
     "metadata": {},
     "output_type": "execute_result"
    }
   ],
   "source": [
    "X_train/255"
   ]
  },
  {
   "cell_type": "code",
   "execution_count": 135,
   "metadata": {},
   "outputs": [],
   "source": [
    "# Save the data to a numpy file array.\n",
    "np.save('feature_semaforos.npy', feature_array)\n",
    "np.save('label_semaforos.npy', label_array)"
   ]
  },
  {
   "cell_type": "code",
   "execution_count": 106,
   "metadata": {},
   "outputs": [
    {
     "name": "stdout",
     "output_type": "stream",
     "text": [
      "(60000, 28, 28)\n"
     ]
    }
   ],
   "source": [
    "print(x_train.shape)\n"
   ]
  }
 ],
 "metadata": {
  "kernelspec": {
   "display_name": "Python 3",
   "language": "python",
   "name": "python3"
  },
  "language_info": {
   "codemirror_mode": {
    "name": "ipython",
    "version": 3
   },
   "file_extension": ".py",
   "mimetype": "text/x-python",
   "name": "python",
   "nbconvert_exporter": "python",
   "pygments_lexer": "ipython3",
   "version": "3.5.3+"
  }
 },
 "nbformat": 4,
 "nbformat_minor": 2
}
